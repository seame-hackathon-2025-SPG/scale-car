{
 "cells": [
  {
   "cell_type": "code",
   "execution_count": 5,
   "id": "f81f0bcb",
   "metadata": {},
   "outputs": [],
   "source": [
    "from piracer.vehicles import PiRacerPro\n",
    "piracer = PiRacerPro()"
   ]
  },
  {
   "cell_type": "code",
   "execution_count": 4,
   "id": "cc2a9dde",
   "metadata": {},
   "outputs": [],
   "source": [
    "piracer.set_steering_percent(0.8)"
   ]
  },
  {
   "cell_type": "code",
   "execution_count": 5,
   "id": "5eda376e",
   "metadata": {},
   "outputs": [],
   "source": [
    "piracer.set_throttle_percent(0.3)"
   ]
  },
  {
   "cell_type": "code",
   "execution_count": 3,
   "id": "c4bc7310",
   "metadata": {},
   "outputs": [],
   "source": [
    "piracer.set_throttle_percent(0)"
   ]
  },
  {
   "cell_type": "code",
   "execution_count": 6,
   "id": "d904bb5b",
   "metadata": {},
   "outputs": [],
   "source": [
    "from piracer.gamepads import ShanWanGamepad\n",
    "shanwan_gamepad = ShanWanGamepad()"
   ]
  },
  {
   "cell_type": "code",
   "execution_count": 7,
   "id": "fe1f5f27",
   "metadata": {},
   "outputs": [
    {
     "name": "stdout",
     "output_type": "stream",
     "text": [
      "throttle=0.0, steering=0.0\n",
      "throttle=0.0, steering=0.0\n",
      "throttle=0.0, steering=0.0\n",
      "throttle=0.0, steering=0.0\n",
      "throttle=0.0, steering=0.0\n",
      "throttle=0.0, steering=0.0\n",
      "throttle=0.0, steering=0.0\n",
      "throttle=0.0, steering=0.0\n",
      "throttle=0.0, steering=0.0\n",
      "throttle=0.0, steering=0.0\n",
      "throttle=0.0, steering=0.0\n",
      "throttle=0.0, steering=0.0\n",
      "throttle=0.0, steering=0.0\n",
      "throttle=0.0, steering=0.0\n",
      "throttle=0.0, steering=0.0\n",
      "throttle=0.0, steering=0.0\n",
      "throttle=0.0, steering=0.0\n",
      "throttle=0.0, steering=0.0\n",
      "throttle=0.0, steering=0.0\n"
     ]
    },
    {
     "ename": "KeyboardInterrupt",
     "evalue": "",
     "output_type": "error",
     "traceback": [
      "\u001b[0;31m---------------------------------------------------------------------------\u001b[0m",
      "\u001b[0;31mKeyboardInterrupt\u001b[0m                         Traceback (most recent call last)",
      "Cell \u001b[0;32mIn[7], line 2\u001b[0m\n\u001b[1;32m      1\u001b[0m \u001b[38;5;28;01mwhile\u001b[39;00m \u001b[38;5;28;01mTrue\u001b[39;00m:\n\u001b[0;32m----> 2\u001b[0m         gamepad_input \u001b[38;5;241m=\u001b[39m \u001b[43mshanwan_gamepad\u001b[49m\u001b[38;5;241;43m.\u001b[39;49m\u001b[43mread_data\u001b[49m\u001b[43m(\u001b[49m\u001b[43m)\u001b[49m\n\u001b[1;32m      4\u001b[0m         throttle \u001b[38;5;241m=\u001b[39m gamepad_input\u001b[38;5;241m.\u001b[39manalog_stick_right\u001b[38;5;241m.\u001b[39my \u001b[38;5;241m*\u001b[39m \u001b[38;5;241m0.5\u001b[39m\n\u001b[1;32m      5\u001b[0m         steering \u001b[38;5;241m=\u001b[39m gamepad_input\u001b[38;5;241m.\u001b[39manalog_stick_left\u001b[38;5;241m.\u001b[39mx\n",
      "File \u001b[0;32m~/.local/lib/python3.10/site-packages/piracer/gamepads.py:170\u001b[0m, in \u001b[0;36mShanWanGamepad.read_data\u001b[0;34m(self)\u001b[0m\n\u001b[1;32m    169\u001b[0m \u001b[38;5;28;01mdef\u001b[39;00m\u001b[38;5;250m \u001b[39m\u001b[38;5;21mread_data\u001b[39m(\u001b[38;5;28mself\u001b[39m) \u001b[38;5;241m-\u001b[39m\u001b[38;5;241m>\u001b[39m ShanWanGamepadInput:\n\u001b[0;32m--> 170\u001b[0m     _, button_number, button_state, _, axis_number, axis_val \u001b[38;5;241m=\u001b[39m \u001b[38;5;28;43msuper\u001b[39;49m\u001b[43m(\u001b[49m\u001b[43mShanWanGamepad\u001b[49m\u001b[43m,\u001b[49m\u001b[43m \u001b[49m\u001b[38;5;28;43mself\u001b[39;49m\u001b[43m)\u001b[49m\u001b[38;5;241;43m.\u001b[39;49m\u001b[43mpoll\u001b[49m\u001b[43m(\u001b[49m\u001b[43m)\u001b[49m\n\u001b[1;32m    172\u001b[0m     \u001b[38;5;28;01mif\u001b[39;00m axis_number \u001b[38;5;241m==\u001b[39m \u001b[38;5;241m0\u001b[39m:\n\u001b[1;32m    173\u001b[0m         \u001b[38;5;28mself\u001b[39m\u001b[38;5;241m.\u001b[39mgamepad_input\u001b[38;5;241m.\u001b[39manalog_stick_left\u001b[38;5;241m.\u001b[39mx \u001b[38;5;241m=\u001b[39m axis_val\n",
      "File \u001b[0;32m~/.local/lib/python3.10/site-packages/piracer/gamepads.py:135\u001b[0m, in \u001b[0;36mJoystick.poll\u001b[0;34m(self)\u001b[0m\n\u001b[1;32m    132\u001b[0m     \u001b[38;5;28;01mreturn\u001b[39;00m button_name, button_number, button_state, axis_name, axis_number, axis_val\n\u001b[1;32m    134\u001b[0m \u001b[38;5;66;03m# Main event loop\u001b[39;00m\n\u001b[0;32m--> 135\u001b[0m evbuf \u001b[38;5;241m=\u001b[39m \u001b[38;5;28;43mself\u001b[39;49m\u001b[38;5;241;43m.\u001b[39;49m\u001b[43mjsdev\u001b[49m\u001b[38;5;241;43m.\u001b[39;49m\u001b[43mread\u001b[49m\u001b[43m(\u001b[49m\u001b[38;5;241;43m8\u001b[39;49m\u001b[43m)\u001b[49m\n\u001b[1;32m    137\u001b[0m \u001b[38;5;28;01mif\u001b[39;00m evbuf:\n\u001b[1;32m    138\u001b[0m     tval, value, typev, number \u001b[38;5;241m=\u001b[39m struct\u001b[38;5;241m.\u001b[39munpack(\u001b[38;5;124m'\u001b[39m\u001b[38;5;124mIhBB\u001b[39m\u001b[38;5;124m'\u001b[39m, evbuf)\n",
      "\u001b[0;31mKeyboardInterrupt\u001b[0m: "
     ]
    }
   ],
   "source": [
    "while True:\n",
    "        gamepad_input = shanwan_gamepad.read_data()\n",
    "\n",
    "        throttle = gamepad_input.analog_stick_right.y * 0.5\n",
    "        steering = gamepad_input.analog_stick_left.x\n",
    "\n",
    "        print(f'throttle={throttle}, steering={steering}')\n",
    "\n",
    "        piracer.set_throttle_percent(throttle)\n",
    "        piracer.set_steering_percent(steering)"
   ]
  },
  {
   "cell_type": "code",
   "execution_count": 8,
   "id": "0815231a",
   "metadata": {},
   "outputs": [],
   "source": [
    "import time\n",
    "from board import SCL, SDA\n",
    "import busio\n",
    "from adafruit_ina219 import INA219\n",
    "from luma.core.interface.serial import i2c\n",
    "from luma.core.render import canvas\n",
    "from luma.oled.device import ssd1306, ssd1325, ssd1331, ssd1309\n",
    "from PIL import ImageFont, ImageDraw, Image\n",
    "\n",
    "i2c_bus = busio.I2C(SCL, SDA)\n",
    "ina219 = INA219(i2c_bus)\n",
    "\n",
    "MAX_VOLTAGE = 16.8\n",
    "MIN_VOLTAGE = 12.0\n",
    "\n",
    "def get_battery_percentage(voltage):\n",
    "    if voltage >= MAX_VOLTAGE:\n",
    "        return 100\n",
    "    elif voltage <= MIN_VOLTAGE:\n",
    "        return 0\n",
    "    else:\n",
    "        percentage = ((voltage - MIN_VOLTAGE) / (MAX_VOLTAGE - MIN_VOLTAGE)) * 100\n",
    "        return round(percentage)\n",
    "\n",
    "serial = i2c(port=1, address=0x3C) \n",
    "device = ssd1306(serial)\n",
    "try:\n",
    "    font = ImageFont.truetype(\"DejaVuSans.ttf\", 20) \n",
    "except IOError:\n",
    "    font = ImageFont.load_default() "
   ]
  },
  {
   "cell_type": "code",
   "execution_count": null,
   "id": "957bdd09",
   "metadata": {},
   "outputs": [
    {
     "name": "stdout",
     "output_type": "stream",
     "text": [
      "Voltage: 29.12V, Current: -612.80mA, Power: 117.20W, Battery: 100%\n",
      "Voltage: 29.12V, Current: -612.80mA, Power: 117.20W, Battery: 100%\n",
      "Voltage: 29.12V, Current: -612.80mA, Power: 117.20W, Battery: 100%\n",
      "Voltage: 29.12V, Current: -612.80mA, Power: 117.20W, Battery: 100%\n",
      "Voltage: 29.12V, Current: -612.80mA, Power: 117.20W, Battery: 100%\n"
     ]
    }
   ],
   "source": [
    "try:\n",
    "    while True:\n",
    "        voltage = ina219.bus_voltage + ina219.shunt_voltage\n",
    "        current = ina219.current\n",
    "        power = ina219.power\n",
    "        battery_percent = get_battery_percentage(voltage)\n",
    "\n",
    "        with canvas(device) as draw:\n",
    "            draw.text((0, 0), f\"Volt: {voltage:.2f}V\", font=font, fill=\"white\")\n",
    "            draw.text((0, 32), f\"Batt: {battery_percent}%\", font=font, fill=\"white\")\n",
    "            # draw.text((0, 32), f\"Curr: {current:.2f}mA\", font=font, fill=\"white\")\n",
    "        print(f\"Voltage: {voltage:.2f}V, Current: {current:.2f}mA, Power: {power:.2f}W, Battery: {battery_percent}%\")\n",
    "        time.sleep(1) \n",
    "\n",
    "except KeyboardInterrupt:\n",
    "    with canvas(device) as draw:\n",
    "        draw.text((0, 0), \"Monitor Off\", font=font, fill=\"white\")\n",
    "    time.sleep(1)"
   ]
  },
  {
   "cell_type": "code",
   "execution_count": null,
   "id": "c6125ddb",
   "metadata": {},
   "outputs": [],
   "source": []
  }
 ],
 "metadata": {
  "kernelspec": {
   "display_name": "Python 3",
   "language": "python",
   "name": "python3"
  },
  "language_info": {
   "codemirror_mode": {
    "name": "ipython",
    "version": 3
   },
   "file_extension": ".py",
   "mimetype": "text/x-python",
   "name": "python",
   "nbconvert_exporter": "python",
   "pygments_lexer": "ipython3",
   "version": "3.10.12"
  }
 },
 "nbformat": 4,
 "nbformat_minor": 5
}
